{
 "cells": [
  {
   "cell_type": "code",
   "execution_count": null,
   "id": "a1cb6e62",
   "metadata": {},
   "outputs": [
    {
     "name": "stdout",
     "output_type": "stream",
     "text": [
      "Números iguais\n"
     ]
    }
   ],
   "source": [
    "a = int(input('Digite dois valores inteiros\\n'))\n",
    "b = int(input())\n",
    "if a == b:\n",
    "    print('Números iguais')\n",
    "else:\n",
    "    print(f'Maior = {max(a,b)}')"
   ]
  },
  {
   "cell_type": "code",
   "execution_count": 5,
   "id": "3c6dba2a",
   "metadata": {},
   "outputs": [
    {
     "name": "stdout",
     "output_type": "stream",
     "text": [
      "Média = 6\n",
      "Números menores que a média:\n",
      "3\n",
      "5\n",
      "Números maiores ou iguais à média:\n",
      "10\n",
      "9\n"
     ]
    }
   ],
   "source": [
    "num1 = int(input('Digite quatro valores inteiros\\n'))\n",
    "num2 = int(input())\n",
    "num3 = int(input())\n",
    "num4 = int(input())\n",
    "media = (num1+num2+num3+num4)//4\n",
    "notas = [num1, num2, num3, num4]\n",
    "maiores = []\n",
    "menores = []\n",
    "for nota in notas:\n",
    "    if nota < media:\n",
    "        menores.append(nota)\n",
    "    else:\n",
    "        maiores.append(nota)\n",
    "print(f'Média = {media}\\nNúmeros menores que a média:')\n",
    "for menor in menores:\n",
    "    print(menor)\n",
    "print('Números maiores ou iguais à média:')\n",
    "for maior in maiores:\n",
    "    print(maior)\n"
   ]
  },
  {
   "cell_type": "code",
   "execution_count": 8,
   "id": "a3090627",
   "metadata": {},
   "outputs": [
    {
     "name": "stdout",
     "output_type": "stream",
     "text": [
      "Soma dos pares = 6\n",
      "Soma dos ímpares = 4\n"
     ]
    }
   ],
   "source": [
    "n1 = int(input('Digite quatro valores inteiros\\n'))\n",
    "n2 = int(input())\n",
    "n3 = int(input())\n",
    "n4 = int(input())\n",
    "numeros = [n1,n2,n3,n4]\n",
    "somap = 0\n",
    "somai = 0\n",
    "for numero in numeros:\n",
    "    if numero%2==0:\n",
    "        somap+=numero\n",
    "    else:\n",
    "        somai+=numero\n",
    "print(f'Soma dos pares = {somap}\\nSoma dos ímpares = {somai}')"
   ]
  }
 ],
 "metadata": {
  "kernelspec": {
   "display_name": "Python 3",
   "language": "python",
   "name": "python3"
  },
  "language_info": {
   "codemirror_mode": {
    "name": "ipython",
    "version": 3
   },
   "file_extension": ".py",
   "mimetype": "text/x-python",
   "name": "python",
   "nbconvert_exporter": "python",
   "pygments_lexer": "ipython3",
   "version": "3.12.1"
  }
 },
 "nbformat": 4,
 "nbformat_minor": 5
}
