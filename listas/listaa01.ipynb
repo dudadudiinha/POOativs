{
 "cells": [
  {
   "cell_type": "code",
   "execution_count": null,
   "id": "a1cb6e62",
   "metadata": {},
   "outputs": [
    {
     "name": "stdout",
     "output_type": "stream",
     "text": [
      "Números iguais\n"
     ]
    }
   ],
   "source": [
    "aa = int(input('Digite dois valores inteiros\\n'))\n",
    "bb = int(input())\n",
    "if aa == bb:\n",
    "    print('Números iguais')\n",
    "else:\n",
    "    print(f'Maior = {max(aa,bb)}')"
   ]
  },
  {
   "cell_type": "code",
   "execution_count": 5,
   "id": "3c6dba2a",
   "metadata": {},
   "outputs": [
    {
     "name": "stdout",
     "output_type": "stream",
     "text": [
      "Média = 6\n",
      "Números menores que a média:\n",
      "3\n",
      "5\n",
      "Números maiores ou iguais à média:\n",
      "10\n",
      "9\n"
     ]
    }
   ],
   "source": [
    "num1 = int(input('Digite quatro valores inteiros\\n'))\n",
    "num2 = int(input())\n",
    "num3 = int(input())\n",
    "num4 = int(input())\n",
    "media = (num1+num2+num3+num4)//4\n",
    "notas = [num1, num2, num3, num4]\n",
    "maiores = []\n",
    "menores = []\n",
    "for nota in notas:\n",
    "    if nota < media:\n",
    "        menores.append(nota)\n",
    "    else:\n",
    "        maiores.append(nota)\n",
    "print(f'Média = {media}\\nNúmeros menores que a média:')\n",
    "for menor in menores:\n",
    "    print(menor)\n",
    "print('Números maiores ou iguais à média:')\n",
    "for maior in maiores:\n",
    "    print(maior)\n"
   ]
  },
  {
   "cell_type": "code",
   "execution_count": 8,
   "id": "a3090627",
   "metadata": {},
   "outputs": [
    {
     "name": "stdout",
     "output_type": "stream",
     "text": [
      "Soma dos pares = 6\n",
      "Soma dos ímpares = 4\n"
     ]
    }
   ],
   "source": [
    "n1 = int(input('Digite quatro valores inteiros\\n'))\n",
    "n2 = int(input())\n",
    "n3 = int(input())\n",
    "n4 = int(input())\n",
    "numeros = [n1,n2,n3,n4]\n",
    "somap = 0\n",
    "somai = 0\n",
    "for numero in numeros:\n",
    "    if numero%2==0:\n",
    "        somap+=numero\n",
    "    else:\n",
    "        somai+=numero\n",
    "print(f'Soma dos pares = {somap}\\nSoma dos ímpares = {somai}')"
   ]
  },
  {
   "cell_type": "code",
   "execution_count": 5,
   "id": "38e21ddf",
   "metadata": {},
   "outputs": [
    {
     "name": "stdout",
     "output_type": "stream",
     "text": [
      "Digite um número válido, ou seja, entre 1 e 12\n"
     ]
    }
   ],
   "source": [
    "#5\n",
    "num_mes = int(input('Informe o número do mês'))\n",
    "meses = {\n",
    "    1: ('janeiro', 'primeiro'),\n",
    "    2: ('fevereiro', 'primeiro'),\n",
    "    3: ('março', 'primeiro'),\n",
    "    4: ('abril', 'segundo'),\n",
    "    5: ('maio', 'segundo'),\n",
    "    6: ('junho', 'segundo'),\n",
    "    7: ('julho', 'terceiro'),\n",
    "    8: ('agosto', 'terceiro'),\n",
    "    9: ('setembro', 'terceiro'),\n",
    "    10: ('outubro', 'quarto'),\n",
    "    11: ('novembro', 'quarto'),\n",
    "    12: ('dezembro', 'quarto')\n",
    "}\n",
    "if num_mes >=1 and num_mes <= 12:\n",
    "    mes, trimestre = meses[num_mes]\n",
    "    print(f'O mês de {mes} é do {trimestre} trimestre do ano')\n",
    "else:\n",
    "    print('Digite um número válido, ou seja, entre 1 e 12')"
   ]
  },
  {
   "cell_type": "code",
   "execution_count": null,
   "id": "1dc5e514",
   "metadata": {},
   "outputs": [
    {
     "name": "stdout",
     "output_type": "stream",
     "text": [
      "A soma do maior com o menor número é 34.\n"
     ]
    }
   ],
   "source": [
    "#6\n",
    "nume1 = int(input('Digite três valores inteiros\\n'))\n",
    "nume2 = int(input())\n",
    "nume3 = int(input())\n",
    "pequeno = min(nume1, nume2, nume3)\n",
    "grande = max(nume1, nume2, nume3)\n",
    "print(f'A soma do maior com o menor número é {pequeno+grande}.')\n",
    "\n"
   ]
  },
  {
   "cell_type": "code",
   "execution_count": 15,
   "id": "44a19664",
   "metadata": {},
   "outputs": [
    {
     "name": "stdout",
     "output_type": "stream",
     "text": [
      "As raízes são 3.41 e 0.59\n"
     ]
    }
   ],
   "source": [
    "#7\n",
    "a = int(input('Digite os coeficientes a, b, e c de uma equação do 2° grau\\n'))\n",
    "b = int(input())\n",
    "c = int(input())\n",
    "delta = b**2-4*a*c\n",
    "if a == 0:\n",
    "    print('Não é uma função de segundo grau')\n",
    "elif delta < 0:\n",
    "    print('Impossível calcular')\n",
    "else:\n",
    "    print(f'As raízes são {(-b+delta**(1/2))/(2*a):.2f} e {(-b-delta**(1/2))/(2*a):.2f}')             "
   ]
  },
  {
   "cell_type": "code",
   "execution_count": 19,
   "id": "2ff5ec5d",
   "metadata": {},
   "outputs": [
    {
     "name": "stdout",
     "output_type": "stream",
     "text": [
      "Maior valor = 4\n",
      "Menor valor = 1\n",
      "A soma do segundo maior valor com o segundo menor = 5\n"
     ]
    }
   ],
   "source": [
    "#8\n",
    "numero1 = int(input('Digite quatro valores inteiros distintos\\n'))\n",
    "numero2 = int(input())\n",
    "numero3 = int(input())\n",
    "numero4 = int(input())\n",
    "numeros = [numero1, numero2, numero3, numero4]\n",
    "if len(set(numeros)) != 4:\n",
    "    print('Digite quatro números diferentes')\n",
    "else:\n",
    "    numeros.sort()\n",
    "    print(f'Maior valor = {numeros[3]}\\nMenor valor = {numeros[0]}\\nA soma do segundo maior valor com o segundo menor = {numeros[1]+numeros[2]}')\n"
   ]
  },
  {
   "cell_type": "code",
   "execution_count": null,
   "id": "60a0abe3",
   "metadata": {},
   "outputs": [],
   "source": []
  },
  {
   "cell_type": "code",
   "execution_count": 27,
   "id": "e3976185",
   "metadata": {},
   "outputs": [
    {
     "name": "stdout",
     "output_type": "stream",
     "text": [
      "O maior valor é 10 e o menor é 1\n"
     ]
    }
   ],
   "source": [
    "#13\n",
    "numbers = list(map(int, input('Digite dez valores inteiros\\n').split()))\n",
    "while len(numbers) != 10:\n",
    "    numbers = list(map(int, input('Digite dez valores inteiros\\n').split()))\n",
    "numbers.sort()\n",
    "print(f'O maior valor é {numbers[9]} e o menor é {numbers[0]}')"
   ]
  },
  {
   "cell_type": "code",
   "execution_count": null,
   "id": "37797a82",
   "metadata": {},
   "outputs": [
    {
     "name": "stdout",
     "output_type": "stream",
     "text": [
      "Este é um triângulo escaleno\n"
     ]
    }
   ],
   "source": [
    "#14\n",
    "a1 = int(input('Digite três valores inteiros\\n'))\n",
    "b1 = int(input())\n",
    "c1 = int(input())\n",
    "if a1 + b1 > c1 and a1 + c1 > b1 and b1 + c1 > a1:\n",
    "    if a1 == b1 == c1:\n",
    "        print('Este é um triângulo equilátero')\n",
    "    if a1 == b1 or a1 == c1 or b1 == c1:\n",
    "        print('Este é um triângulo isósceles')\n",
    "    else:\n",
    "        print('Este é um triângulo escaleno')\n",
    "else:\n",
    "    print('Esses valores não formam um triângulo')\n"
   ]
  },
  {
   "cell_type": "code",
   "execution_count": 37,
   "id": "dc3116e7",
   "metadata": {},
   "outputs": [
    {
     "name": "stdout",
     "output_type": "stream",
     "text": [
      "1 2 3\n"
     ]
    }
   ],
   "source": [
    "#15\n",
    "v1 = int(input('Digite três valores\\n'))\n",
    "v2 = int(input())\n",
    "v3 = int(input())\n",
    "valores = [v1, v2, v3]\n",
    "valores.sort()\n",
    "print(*valores)\n"
   ]
  }
 ],
 "metadata": {
  "kernelspec": {
   "display_name": "Python 3",
   "language": "python",
   "name": "python3"
  },
  "language_info": {
   "codemirror_mode": {
    "name": "ipython",
    "version": 3
   },
   "file_extension": ".py",
   "mimetype": "text/x-python",
   "name": "python",
   "nbconvert_exporter": "python",
   "pygments_lexer": "ipython3",
   "version": "3.12.1"
  }
 },
 "nbformat": 4,
 "nbformat_minor": 5
}
